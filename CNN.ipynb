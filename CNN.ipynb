{
 "cells": [
  {
   "cell_type": "code",
   "execution_count": 1,
   "id": "caec13c9-719c-432e-9186-bb72b0901ccb",
   "metadata": {},
   "outputs": [],
   "source": [
    "from tensorflow.keras.preprocessing.image import ImageDataGenerator"
   ]
  },
  {
   "cell_type": "code",
   "execution_count": 2,
   "id": "8ec8101c-dfd9-4c19-a2b6-88925e6e342b",
   "metadata": {},
   "outputs": [],
   "source": [
    "import tensorflow as tf\n",
    "from tensorflow.keras import layers, models\n",
    "from tensorflow.keras.preprocessing.image import ImageDataGenerator\n",
    "import matplotlib.pyplot as plt"
   ]
  },
  {
   "cell_type": "code",
   "execution_count": 4,
   "id": "b76e59d4-446f-48f7-ae78-644bda79cf7c",
   "metadata": {},
   "outputs": [
    {
     "name": "stdout",
     "output_type": "stream",
     "text": [
      "Found 84635 images belonging to 525 classes.\n"
     ]
    }
   ],
   "source": [
    "# Convert labels to one-hot encoding\n",
    "batch_size =32\n",
    "train_datagen = ImageDataGenerator(rescale=1./255)\n",
    "train_generator = train_datagen.flow_from_directory(r'C:\\Users\\ACER\\Birds\\archive\\train',  # Path to the training set\n",
    "    target_size=(224, 224),    # Adjust the size based on your choice\n",
    "    batch_size=batch_size,\n",
    "    class_mode='categorical',\n",
    "    subset='training'\n",
    ")"
   ]
  },
  {
   "cell_type": "code",
   "execution_count": 5,
   "id": "b6a14fbb-0bac-4985-8a5f-c063814ba236",
   "metadata": {},
   "outputs": [
    {
     "name": "stdout",
     "output_type": "stream",
     "text": [
      "Found 2625 images belonging to 525 classes.\n"
     ]
    }
   ],
   "source": [
    "valid_datagen = ImageDataGenerator(rescale=1./255)\n",
    "validation_generator = valid_datagen.flow_from_directory(r'C:\\Users\\ACER\\Birds\\archive\\valid',\n",
    "    target_size=(224, 224),\n",
    "    batch_size=batch_size,\n",
    "    class_mode='categorical',\n",
    ")"
   ]
  },
  {
   "cell_type": "code",
   "execution_count": 8,
   "id": "6e1f2720-fe3d-4e93-9b96-c5a2eadcac73",
   "metadata": {},
   "outputs": [],
   "source": [
    "num_classes = 525  # Change this according to the number of classes in your dataset"
   ]
  },
  {
   "cell_type": "code",
   "execution_count": 9,
   "id": "24c519f1-a002-491a-9f5a-f5c8b21e8fa8",
   "metadata": {},
   "outputs": [],
   "source": [
    "from tensorflow.keras import layers, models\n",
    "\n",
    "# Initialize the Sequential model\n",
    "model = models.Sequential()\n",
    "\n",
    "# Add a Convolutional layer with Batch Normalization\n",
    "model.add(layers.Conv2D(32, (3, 3), input_shape=(224, 224, 3)))\n",
    "model.add(layers.BatchNormalization())\n",
    "model.add(layers.Activation('relu'))\n",
    "model.add(layers.MaxPooling2D((2, 2)))\n",
    "\n",
    "# Add another Convolutional layer with Batch Normalization\n",
    "model.add(layers.Conv2D(64, (3, 3)))\n",
    "model.add(layers.BatchNormalization())\n",
    "model.add(layers.Activation('relu'))\n",
    "model.add(layers.MaxPooling2D((2, 2)))\n",
    "\n",
    "model.add(layers.Conv2D(128, (3, 3)))\n",
    "model.add(layers.BatchNormalization())\n",
    "model.add(layers.Activation('relu'))\n",
    "model.add(layers.MaxPooling2D((2, 2)))\n",
    "\n",
    "model.add(layers.Conv2D(256, (3, 3)))\n",
    "model.add(layers.BatchNormalization())\n",
    "model.add(layers.Activation('relu'))\n",
    "model.add(layers.MaxPooling2D((2, 2)))\n",
    "\n",
    "# Flatten the output and add Dense layers\n",
    "model.add(layers.Flatten())\n",
    "model.add(layers.Dense(128))\n",
    "model.add(layers.Dropout(0.5))\n",
    "model.add(layers.BatchNormalization())\n",
    "model.add(layers.Activation('relu'))\n",
    "\n",
    "# Add the output layer with the specified number of classes\n",
    "model.add(layers.Dense(num_classes, activation='softmax'))"
   ]
  },
  {
   "cell_type": "code",
   "execution_count": 10,
   "id": "c4477e1b-52e6-4090-a308-f54a8a0f5710",
   "metadata": {},
   "outputs": [],
   "source": [
    "# Define callbacks\n",
    "from tensorflow.keras.optimizers import Adam\n",
    "from tensorflow.keras.callbacks import LearningRateScheduler\n",
    "\n",
    "initial_lr = 0.001\n",
    "\n",
    "def lr_scheduler(epoch, lr):\n",
    "    if epoch % 5 == 0:\n",
    "        return lr * 0.9\n",
    "    return lr\n",
    "\n",
    "lr_schedule = LearningRateScheduler(lr_scheduler)"
   ]
  },
  {
   "cell_type": "code",
   "execution_count": 11,
   "id": "2cf03bfd-54d8-411e-9d81-a374374c6166",
   "metadata": {},
   "outputs": [],
   "source": [
    "# Define callbacks\n",
    "from tensorflow.keras.callbacks import EarlyStopping\n",
    "\n",
    "early_stopping = EarlyStopping(monitor='val_loss', patience=4, restore_best_weights=True)"
   ]
  },
  {
   "cell_type": "code",
   "execution_count": 12,
   "id": "1b712a34-698b-41c8-8652-cfdd54db5eb2",
   "metadata": {},
   "outputs": [],
   "source": [
    "#compile the model\n",
    "model.compile(optimizer=Adam(learning_rate=initial_lr), loss='categorical_crossentropy', metrics=['accuracy'])"
   ]
  },
  {
   "cell_type": "code",
   "execution_count": 13,
   "id": "3395ac46-1967-4c13-b55a-1b7115d54709",
   "metadata": {},
   "outputs": [
    {
     "name": "stdout",
     "output_type": "stream",
     "text": [
      "Epoch 1/40\n",
      "2644/2644 [==============================] - 1996s 754ms/step - loss: 5.1429 - accuracy: 0.0677 - val_loss: 3.6458 - val_accuracy: 0.2736 - lr: 9.0000e-04\n",
      "Epoch 2/40\n",
      "2644/2644 [==============================] - 2175s 822ms/step - loss: 3.5811 - accuracy: 0.2444 - val_loss: 2.3593 - val_accuracy: 0.4676 - lr: 9.0000e-04\n",
      "Epoch 3/40\n",
      "2644/2644 [==============================] - 2502s 946ms/step - loss: 2.8654 - accuracy: 0.3641 - val_loss: 1.7783 - val_accuracy: 0.5770 - lr: 9.0000e-04\n",
      "Epoch 4/40\n",
      "2644/2644 [==============================] - 2517s 952ms/step - loss: 2.4066 - accuracy: 0.4469 - val_loss: 1.5062 - val_accuracy: 0.6376 - lr: 9.0000e-04\n",
      "Epoch 5/40\n",
      "2644/2644 [==============================] - 2532s 957ms/step - loss: 2.0693 - accuracy: 0.5121 - val_loss: 1.4263 - val_accuracy: 0.6688 - lr: 9.0000e-04\n",
      "Epoch 6/40\n",
      "2644/2644 [==============================] - 2029s 767ms/step - loss: 1.7669 - accuracy: 0.5733 - val_loss: 1.1820 - val_accuracy: 0.7172 - lr: 8.1000e-04\n",
      "Epoch 7/40\n",
      "2644/2644 [==============================] - 2030s 768ms/step - loss: 1.5331 - accuracy: 0.6207 - val_loss: 1.1709 - val_accuracy: 0.7085 - lr: 8.1000e-04\n",
      "Epoch 8/40\n",
      "2644/2644 [==============================] - 2026s 766ms/step - loss: 1.3318 - accuracy: 0.6603 - val_loss: 1.0887 - val_accuracy: 0.7447 - lr: 8.1000e-04\n",
      "Epoch 9/40\n",
      "2644/2644 [==============================] - 2044s 773ms/step - loss: 1.1509 - accuracy: 0.7001 - val_loss: 1.0191 - val_accuracy: 0.7569 - lr: 8.1000e-04\n",
      "Epoch 10/40\n",
      "2644/2644 [==============================] - 2023s 765ms/step - loss: 1.0008 - accuracy: 0.7315 - val_loss: 0.9986 - val_accuracy: 0.7588 - lr: 8.1000e-04\n",
      "Epoch 11/40\n",
      "2644/2644 [==============================] - 2044s 773ms/step - loss: 0.8416 - accuracy: 0.7666 - val_loss: 1.0250 - val_accuracy: 0.7569 - lr: 7.2900e-04\n",
      "Epoch 12/40\n",
      "2644/2644 [==============================] - 1992s 753ms/step - loss: 0.7294 - accuracy: 0.7946 - val_loss: 1.0172 - val_accuracy: 0.7614 - lr: 7.2900e-04\n",
      "Epoch 13/40\n",
      "2644/2644 [==============================] - 2385s 902ms/step - loss: 0.6312 - accuracy: 0.8181 - val_loss: 0.9828 - val_accuracy: 0.7702 - lr: 7.2900e-04\n",
      "Epoch 14/40\n",
      "2644/2644 [==============================] - 2572s 973ms/step - loss: 0.5672 - accuracy: 0.8342 - val_loss: 1.0558 - val_accuracy: 0.7679 - lr: 7.2900e-04\n",
      "Epoch 15/40\n",
      "2644/2644 [==============================] - 2069s 782ms/step - loss: 0.5095 - accuracy: 0.8496 - val_loss: 1.2182 - val_accuracy: 0.7447 - lr: 7.2900e-04\n",
      "Epoch 16/40\n",
      "2644/2644 [==============================] - 2019s 764ms/step - loss: 0.4462 - accuracy: 0.8679 - val_loss: 1.0870 - val_accuracy: 0.7565 - lr: 6.5610e-04\n",
      "Epoch 17/40\n",
      "2644/2644 [==============================] - 2298s 869ms/step - loss: 0.3945 - accuracy: 0.8818 - val_loss: 1.2079 - val_accuracy: 0.7492 - lr: 6.5610e-04\n"
     ]
    }
   ],
   "source": [
    "#Train the model\n",
    "history = model.fit(\n",
    "    train_generator,\n",
    "    steps_per_epoch=train_generator.samples // batch_size,\n",
    "    epochs=40,\n",
    "    validation_data=validation_generator,\n",
    "    validation_steps=validation_generator.samples // batch_size,\n",
    "    callbacks=[lr_schedule,early_stopping]\n",
    ")"
   ]
  },
  {
   "cell_type": "code",
   "execution_count": 15,
   "id": "52189592-e3d6-4cb9-8161-204abf854a3a",
   "metadata": {},
   "outputs": [
    {
     "name": "stdout",
     "output_type": "stream",
     "text": [
      "Found 2625 images belonging to 525 classes.\n",
      "82/82 [==============================] - 19s 232ms/step - loss: 0.8457 - accuracy: 0.8041\n",
      "Test Accuracy: 0.8041158318519592\n"
     ]
    }
   ],
   "source": [
    "# Evaluate on the test set\n",
    "test_datagen = ImageDataGenerator(rescale=1./255)\n",
    "\n",
    "test_generator = test_datagen.flow_from_directory(r'C:\\Users\\ACER\\Birds\\archive\\test',\n",
    "    target_size=(224, 224),\n",
    "    batch_size=batch_size,\n",
    "    class_mode='categorical'\n",
    ")\n",
    "\n",
    "test_loss, test_acc = model.evaluate(test_generator, steps=test_generator.samples // batch_size)\n",
    "print(f'Test Accuracy: {test_acc}')"
   ]
  },
  {
   "cell_type": "code",
   "execution_count": 18,
   "id": "8126d6ff-3144-4ddd-ae67-2e1ca1c40947",
   "metadata": {},
   "outputs": [],
   "source": [
    "from tensorflow.keras.preprocessing import image\n",
    "import numpy as np\n",
    "\n",
    "# Load an example test image\n",
    "test_image_path = r'C:\\Users\\ACER\\Birds\\archive\\test\\ABBOTTS BABBLER\\2.jpg'\n",
    "img = image.load_img(test_image_path, target_size=(224, 224))\n",
    "img_array = image.img_to_array(img)\n",
    "img_array = np.expand_dims(img_array, axis=0)\n",
    "img_array /= 255.0  # Rescale pixel values to [0, 1]"
   ]
  },
  {
   "cell_type": "code",
   "execution_count": 39,
   "id": "e6b3aa75-be4e-4876-af5a-b6fd80115d55",
   "metadata": {},
   "outputs": [
    {
     "name": "stdout",
     "output_type": "stream",
     "text": [
      "1/1 [==============================] - 0s 41ms/step\n"
     ]
    }
   ],
   "source": [
    "# Make predictions\n",
    "predictions = model.predict(img_array)"
   ]
  },
  {
   "cell_type": "code",
   "execution_count": 36,
   "id": "6be7e1cb-5a5b-487e-93ab-75152f275aac",
   "metadata": {},
   "outputs": [
    {
     "name": "stdout",
     "output_type": "stream",
     "text": [
      "1/1 [==============================] - 0s 49ms/step\n",
      "(1, 525)\n",
      "[1.75487638e-01 1.06945270e-08 7.50023865e-09 5.71197845e-09\n",
      " 2.57373131e-07 2.43752811e-06 3.16311300e-12 2.42646820e-07\n",
      " 9.14293502e-11 6.26281338e-16 2.00423474e-05 2.07417887e-08\n",
      " 4.88891306e-12 3.40537990e-05 2.78135524e-16 3.10093185e-07\n",
      " 3.78957044e-09 1.24176580e-08 4.44103847e-14 1.36649492e-08\n",
      " 1.02272701e-09 9.57485380e-09 4.74606621e-09 2.94044433e-08\n",
      " 4.50435529e-08 1.38718053e-06 1.58665268e-12 7.91690269e-08\n",
      " 5.53603386e-05 1.45963375e-09 2.80823064e-04 1.44450155e-06\n",
      " 3.83754286e-06 6.07022770e-08 8.67098606e-08 1.54301603e-07\n",
      " 1.74147696e-09 3.04363045e-12 4.48283646e-03 7.43775574e-09\n",
      " 1.11876872e-07 1.45411235e-07 6.61018174e-09 5.12837162e-10\n",
      " 6.04161396e-05 9.86264497e-02 1.66093305e-04 1.21866709e-04\n",
      " 7.18413794e-05 7.43643298e-08 8.84161000e-06 2.47903892e-10\n",
      " 1.21345858e-08 8.32650192e-14 4.97095876e-08 3.19072626e-08\n",
      " 2.23446001e-12 4.09254753e-05 1.65172480e-03 6.10881762e-06\n",
      " 2.15705648e-11 7.90713727e-14 9.77885091e-13 2.03379580e-09\n",
      " 1.21283200e-11 7.70140105e-05 2.79376581e-15 2.77301693e-09\n",
      " 2.40928250e-11 8.37509651e-05 7.29656058e-11 4.27567114e-11\n",
      " 2.32547084e-08 2.35537900e-08 1.52460899e-09 1.06544599e-06\n",
      " 6.50427864e-06 1.93850665e-11 3.63218122e-09 9.14745826e-08\n",
      " 1.76543433e-11 2.17404592e-14 4.75414326e-11 1.19973720e-07\n",
      " 1.05769518e-08 7.38072704e-05 4.48897111e-07 8.59028967e-14\n",
      " 8.62710436e-08 1.85318456e-07 2.33608185e-12 6.38176587e-08\n",
      " 1.37785157e-11 1.90756591e-10 3.85404201e-05 8.68593759e-07\n",
      " 9.10621020e-06 4.01429628e-04 5.25905826e-08 3.34465455e-09\n",
      " 1.74402658e-07 6.31133141e-03 3.88656431e-08 9.86792770e-07\n",
      " 2.82056573e-10 3.84066734e-09 4.20097983e-08 1.06473497e-08\n",
      " 1.11380717e-10 4.45820838e-08 3.19083604e-08 2.14002895e-08\n",
      " 1.11496401e-09 4.55279441e-08 5.45378392e-14 3.20688961e-11\n",
      " 8.87426310e-09 2.35700459e-09 1.97822931e-08 1.47270932e-10\n",
      " 4.62453436e-08 1.67898213e-11 8.69992273e-11 5.18035222e-07\n",
      " 5.51734318e-11 6.58589272e-09 2.22004186e-12 5.70948584e-12\n",
      " 5.68896819e-10 2.48775137e-07 1.82537249e-07 1.13565932e-06\n",
      " 1.15244980e-07 9.73528147e-10 2.02676265e-10 4.76565942e-09\n",
      " 7.68344253e-05 5.45081894e-05 2.15697892e-05 3.64719011e-09\n",
      " 1.79120041e-09 3.08291561e-07 2.18528072e-07 9.43390646e-08\n",
      " 3.30159253e-07 5.57856197e-08 1.93134539e-07 1.31040088e-06\n",
      " 1.13370660e-07 7.18334788e-13 1.73902542e-11 1.46977214e-07\n",
      " 8.66804978e-12 2.14860595e-11 9.90467925e-07 1.97441091e-06\n",
      " 9.35132277e-07 2.63523120e-10 1.66488143e-10 4.84859520e-05\n",
      " 2.14542728e-12 4.17786411e-13 1.67977898e-08 2.38047476e-04\n",
      " 1.08717734e-06 1.44274021e-14 1.63641269e-03 5.69245628e-07\n",
      " 8.82207696e-10 1.25770644e-10 2.56961473e-04 1.58812588e-10\n",
      " 5.24028147e-11 5.28662986e-06 3.63395515e-07 2.22206209e-03\n",
      " 3.78756965e-07 3.83035399e-08 1.80939335e-08 7.23497260e-06\n",
      " 3.63897523e-10 2.18855489e-09 4.13601374e-05 3.24169014e-06\n",
      " 2.96082675e-07 1.75327519e-09 4.18176294e-09 6.17054320e-06\n",
      " 8.66115556e-07 1.14001706e-08 4.70855666e-09 2.71086387e-12\n",
      " 1.82825743e-09 3.69087338e-08 3.14164753e-12 2.93406721e-09\n",
      " 2.65441660e-04 1.36590934e-05 7.47125029e-10 5.18430097e-05\n",
      " 3.16385581e-06 3.50091449e-11 4.06341003e-11 2.89992990e-08\n",
      " 1.73010193e-08 3.07769136e-04 1.60534299e-07 3.28488397e-07\n",
      " 2.28402996e-07 2.76246803e-10 1.37584649e-07 2.38948096e-14\n",
      " 3.73326934e-08 2.44004404e-12 4.35189662e-09 5.04086062e-09\n",
      " 1.95742335e-13 2.18381802e-09 2.78754850e-08 6.81111629e-08\n",
      " 4.99145472e-07 3.16350572e-08 7.17451029e-11 3.34656747e-10\n",
      " 7.59875184e-05 1.16594387e-08 1.75802350e-09 1.30776925e-06\n",
      " 1.42099424e-07 5.13473153e-11 2.67124527e-08 5.07099279e-14\n",
      " 4.73790562e-10 4.42180436e-07 2.74135870e-09 2.97030844e-08\n",
      " 2.57756542e-11 2.49365372e-11 4.80506017e-08 3.04160608e-06\n",
      " 6.55810618e-06 1.56663280e-10 1.61189984e-09 5.16804211e-10\n",
      " 2.14323594e-11 6.82789492e-10 3.30353078e-10 2.42886423e-11\n",
      " 3.30231020e-09 2.21316703e-03 8.80141815e-05 1.30910365e-07\n",
      " 8.80120380e-04 1.04742085e-05 1.57049089e-06 1.02337654e-04\n",
      " 2.77695631e-06 1.85426682e-01 1.17981317e-03 1.02970072e-04\n",
      " 6.84181097e-12 2.66854952e-13 7.34479311e-10 9.92543789e-08\n",
      " 3.23053051e-08 5.52011261e-05 2.11082399e-03 2.94920970e-02\n",
      " 3.12861994e-05 2.05380512e-13 4.81028246e-06 1.08748472e-05\n",
      " 1.44742700e-07 8.69266614e-07 3.03601837e-08 7.86100770e-07\n",
      " 2.45110456e-15 1.25299557e-08 2.07857920e-06 2.33281298e-07\n",
      " 4.59977976e-08 4.06017414e-10 2.48190395e-06 3.99528180e-05\n",
      " 7.37418682e-10 3.57584241e-07 2.22565170e-15 2.08474991e-11\n",
      " 5.06053972e-08 6.56181151e-11 6.99200431e-09 9.36108449e-07\n",
      " 1.05735779e-07 4.89434068e-13 1.59959384e-07 8.38626057e-09\n",
      " 7.99720479e-13 4.97639374e-10 9.37022993e-09 1.60408285e-06\n",
      " 1.50264862e-06 3.21169210e-07 9.05343214e-08 1.63904056e-02\n",
      " 2.25729407e-10 1.22132073e-08 6.68254921e-14 8.94634714e-11\n",
      " 8.83746548e-11 4.98906732e-12 1.66433693e-08 9.65855347e-12\n",
      " 3.06686516e-08 1.39854492e-07 3.50260228e-01 2.31324466e-05\n",
      " 1.41932094e-06 1.56054877e-10 3.07040228e-14 1.68004391e-13\n",
      " 6.62686125e-06 3.11072834e-10 1.16616128e-07 7.61984920e-12\n",
      " 1.48315624e-10 2.81064416e-08 1.73171158e-10 1.34611905e-10\n",
      " 3.60022625e-07 1.88092109e-13 5.58117996e-08 3.34288160e-07\n",
      " 1.38763223e-09 5.68989708e-06 3.77938696e-12 1.41296539e-06\n",
      " 5.79648729e-09 1.53340418e-02 1.11462629e-12 4.52948373e-11\n",
      " 1.69338306e-12 9.78590338e-04 2.49031795e-10 1.44910448e-08\n",
      " 3.04557879e-14 2.50304355e-09 2.78425872e-12 5.06237654e-07\n",
      " 3.31983815e-11 8.99608676e-06 4.03422376e-07 7.34922478e-09\n",
      " 6.10868369e-08 5.87532558e-02 1.09274418e-03 2.66435407e-09\n",
      " 2.77607437e-10 6.16378129e-11 9.77791388e-14 1.67378428e-04\n",
      " 1.50320589e-10 8.11563382e-07 3.23319362e-08 3.89368537e-09\n",
      " 1.76566810e-13 1.45544063e-10 1.60259344e-08 7.30530382e-06\n",
      " 6.02560294e-06 2.08650930e-10 2.65852577e-04 5.46740822e-08\n",
      " 1.33097577e-08 8.31668334e-09 1.75802634e-04 1.50655625e-13\n",
      " 8.67931362e-07 6.95464723e-06 3.35367423e-09 3.91955468e-10\n",
      " 8.79196993e-11 8.75920581e-09 1.32320638e-04 2.84582330e-10\n",
      " 8.54566140e-10 2.11102105e-07 1.29132641e-05 2.51534829e-07\n",
      " 3.63151598e-09 1.27949544e-13 1.64480219e-16 3.98073213e-10\n",
      " 3.73620642e-05 6.28038208e-08 4.49057858e-08 6.00595573e-09\n",
      " 3.24426879e-12 3.21109510e-05 7.74957609e-09 2.44850334e-10\n",
      " 7.80926810e-13 3.65181933e-07 7.40980111e-10 6.14875165e-11\n",
      " 1.22846875e-04 3.68187398e-06 4.76182045e-11 1.90737115e-08\n",
      " 2.29308728e-09 4.70107606e-15 7.36004660e-11 7.35384063e-12\n",
      " 7.04006670e-05 5.66550116e-05 8.24723065e-06 1.91725621e-06\n",
      " 4.04988887e-09 1.65768061e-12 3.54351937e-06 9.34143086e-16\n",
      " 1.20484048e-11 4.78567188e-07 1.89512683e-10 3.36920131e-10\n",
      " 3.65428043e-08 1.48163593e-09 3.00848402e-10 1.14220980e-10\n",
      " 1.43229579e-06 1.22656126e-03 3.57956822e-07 1.66705232e-13\n",
      " 1.27555310e-07 1.27443125e-10 5.19079663e-07 3.27458588e-10\n",
      " 5.81535063e-11 2.05876791e-08 1.74500485e-07 7.97500899e-10\n",
      " 3.06850325e-06 4.79127593e-05 3.66647408e-04 1.02820252e-11\n",
      " 1.23568308e-10 1.19903592e-11 9.00888679e-08 5.89720286e-11\n",
      " 8.64057554e-08 5.28214916e-10 3.57060321e-06 3.94544044e-13\n",
      " 7.87733539e-13 5.92753763e-11 1.99405249e-12 1.06635978e-10\n",
      " 1.96866706e-04 1.26291448e-08 3.95124124e-12 5.92409773e-03\n",
      " 6.87868237e-07 1.54572103e-06 2.31610061e-11 1.17682584e-13\n",
      " 3.10119241e-09 2.75237273e-08 1.44605625e-08 2.77042692e-03\n",
      " 1.10665331e-11 5.65475202e-04 1.43558220e-13 9.93977324e-15\n",
      " 1.07533071e-09 1.78813025e-05 1.31852653e-06 8.72338451e-11\n",
      " 2.18181569e-07 3.98078794e-03 3.70511391e-12 2.83123001e-08\n",
      " 2.46592487e-13 9.81916681e-09 1.75348603e-07 3.19034417e-11\n",
      " 6.58914214e-05 3.37609172e-13 1.89452787e-09 5.09859137e-06\n",
      " 6.35041772e-07 1.22718653e-08 4.84355769e-05 1.93646574e-12\n",
      " 1.74069846e-05 1.93562677e-09 2.15520018e-07 7.52193898e-08\n",
      " 1.32887794e-06 2.15725748e-08 1.96471190e-11 2.48457440e-07\n",
      " 3.14819246e-08 1.55461388e-09 2.02740535e-09 5.94513665e-08\n",
      " 2.29973512e-10 1.54920301e-07 4.68494167e-04 1.88150034e-06\n",
      " 1.80900599e-07 2.70751363e-04 6.26562214e-12 5.89339612e-13\n",
      " 1.83208417e-08 1.59175684e-07 1.23509458e-09 1.55051978e-11\n",
      " 3.01334602e-08 1.03042321e-05 3.45853621e-08 2.45502759e-02\n",
      " 1.45697690e-04 6.05081659e-05 1.22150190e-09 7.16892561e-12\n",
      " 9.76322190e-06]\n",
      "4\n",
      "Predicted Class Index: 314\n",
      "Invalid predicted class index.\n"
     ]
    }
   ],
   "source": [
    "# predictions = model.predict(img_array)\n",
    "# class_labels = [\"Class_0\", \"Class_1\", ..., \"Class_524\"]\n",
    "\n",
    "# # Check the shape of predictions\n",
    "# print(predictions.shape)\n",
    "\n",
    "# # Inspect the predictions array\n",
    "# print(predictions[0])\n",
    "\n",
    "# # Print the length of class_labels\n",
    "# print(len(class_labels))\n",
    "\n",
    "# # Get the class index with the highest probability\n",
    "# predicted_class_index = np.argmax(predictions[0])\n",
    "\n",
    "# # Print the predicted class and probability\n",
    "# print(f\"Predicted Class Index: {predicted_class_index}\")\n",
    "\n",
    "# # Ensure the predicted_class_index is within the range of class_labels\n",
    "# if 0 <= predicted_class_index < len(class_labels):\n",
    "#     print(f\"Predicted Class: {class_labels[predicted_class_index]}\")\n",
    "#     print(f\"Probability: {predictions[0][predicted_class_index]:.2%}\")\n",
    "# else:\n",
    "#     print(\"Invalid predicted class index.\")\n"
   ]
  },
  {
   "cell_type": "code",
   "execution_count": 40,
   "id": "b5a660da-66cd-4d2d-87ed-374f26017f22",
   "metadata": {},
   "outputs": [
    {
     "name": "stdout",
     "output_type": "stream",
     "text": [
      "4\n"
     ]
    }
   ],
   "source": [
    "print(len(class_labels))"
   ]
  },
  {
   "cell_type": "code",
   "execution_count": 1,
   "id": "e0307a2d-3cd6-48f8-9906-3707e2f5c81d",
   "metadata": {},
   "outputs": [
    {
     "ename": "NameError",
     "evalue": "name 'np' is not defined",
     "output_type": "error",
     "traceback": [
      "\u001b[1;31m---------------------------------------------------------------------------\u001b[0m",
      "\u001b[1;31mNameError\u001b[0m                                 Traceback (most recent call last)",
      "Cell \u001b[1;32mIn[1], line 3\u001b[0m\n\u001b[0;32m      1\u001b[0m class_labels \u001b[38;5;241m=\u001b[39m [\u001b[38;5;124m\"\u001b[39m\u001b[38;5;124mClass_0\u001b[39m\u001b[38;5;124m\"\u001b[39m, \u001b[38;5;124m\"\u001b[39m\u001b[38;5;124mClass_1\u001b[39m\u001b[38;5;124m\"\u001b[39m, \u001b[38;5;241m.\u001b[39m\u001b[38;5;241m.\u001b[39m\u001b[38;5;241m.\u001b[39m, \u001b[38;5;124m\"\u001b[39m\u001b[38;5;124mClass_524\u001b[39m\u001b[38;5;124m\"\u001b[39m]\n\u001b[0;32m      2\u001b[0m \u001b[38;5;66;03m# Get the class index with the highest probability\u001b[39;00m\n\u001b[1;32m----> 3\u001b[0m predicted_class_index \u001b[38;5;241m=\u001b[39m \u001b[43mnp\u001b[49m\u001b[38;5;241m.\u001b[39margmax(predictions[\u001b[38;5;241m0\u001b[39m])\n\u001b[0;32m      4\u001b[0m \u001b[38;5;66;03m# Print the predicted class and probability\u001b[39;00m\n\u001b[0;32m      5\u001b[0m \u001b[38;5;28mprint\u001b[39m(\u001b[38;5;124mf\u001b[39m\u001b[38;5;124m\"\u001b[39m\u001b[38;5;124mPredicted Class Index: \u001b[39m\u001b[38;5;132;01m{\u001b[39;00mpredicted_class_index\u001b[38;5;132;01m}\u001b[39;00m\u001b[38;5;124m\"\u001b[39m)\n",
      "\u001b[1;31mNameError\u001b[0m: name 'np' is not defined"
     ]
    }
   ],
   "source": [
    "class_labels = [\"Class_0\", \"Class_1\", ..., \"Class_524\"]\n",
    "# Get the class index with the highest probability\n",
    "predicted_class_index = np.argmax(predictions[0])\n",
    "# Print the predicted class and probability\n",
    "print(f\"Predicted Class Index: {predicted_class_index}\")\n",
    "print(f\"Predicted Class: {class_labels[predicted_class_index]}\")\n",
    "print(f\"Probability: {predictions[0][predicted_class_index]:.2%}\")"
   ]
  }
 ],
 "metadata": {
  "kernelspec": {
   "display_name": "Python 3 (ipykernel)",
   "language": "python",
   "name": "python3"
  },
  "language_info": {
   "codemirror_mode": {
    "name": "ipython",
    "version": 3
   },
   "file_extension": ".py",
   "mimetype": "text/x-python",
   "name": "python",
   "nbconvert_exporter": "python",
   "pygments_lexer": "ipython3",
   "version": "3.10.13"
  }
 },
 "nbformat": 4,
 "nbformat_minor": 5
}
